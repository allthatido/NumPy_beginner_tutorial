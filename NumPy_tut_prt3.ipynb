{
 "cells": [
  {
   "cell_type": "markdown",
   "metadata": {},
   "source": [
    "### 2.2 Boolean mask arrays"
   ]
  },
  {
   "cell_type": "code",
   "execution_count": null,
   "metadata": {},
   "outputs": [],
   "source": [
    "import numpy as np"
   ]
  },
  {
   "cell_type": "code",
   "execution_count": null,
   "metadata": {},
   "outputs": [],
   "source": [
    "np_array1 = np.array([-12,3,5,7,8])\n",
    "array_mask = 0 == (np_array1 % 4)    # creating a masking array using modulo divison of array elements by 4\n",
    "\n",
    "print(array_mask)"
   ]
  },
  {
   "cell_type": "code",
   "execution_count": null,
   "metadata": {},
   "outputs": [],
   "source": [
    "sub_np_array = np_array1[array_mask] # using the masking array to filter elements from the np_array1\n",
    "\n",
    "print(sub_np_array)"
   ]
  },
  {
   "cell_type": "code",
   "execution_count": null,
   "metadata": {},
   "outputs": [],
   "source": [
    "sub_np_array[sub_np_array>0] # usin the sub array to mask itself"
   ]
  },
  {
   "cell_type": "code",
   "execution_count": null,
   "metadata": {},
   "outputs": [],
   "source": [
    "# another wau to achieve this in NumPy\n",
    "\n",
    "np_array1 = np.array([-12,3,5,7,8])\n",
    "mod_mask = 0 == (np_array1%4)       # a mask for all elements dvivible by 4\n",
    "positive_mask = (np_array1 > 0)     # a mask for elements greater than 0\n",
    "\n",
    "combined_mask = np.logical_and(mod_mask,positive_mask) # creates a combined mask using NumPy\n",
    "print(combined_mask)"
   ]
  },
  {
   "cell_type": "code",
   "execution_count": null,
   "metadata": {},
   "outputs": [],
   "source": [
    "np_array1[combined_mask]   # Always use numpy functions as they are more efficient whwn dealing with large data sets"
   ]
  },
  {
   "cell_type": "markdown",
   "metadata": {},
   "source": [
    "### 2.3 Broadcasting"
   ]
  },
  {
   "cell_type": "code",
   "execution_count": null,
   "metadata": {},
   "outputs": [],
   "source": [
    "np_array1 = np.arange(24)\n",
    "np_array1.shape = (2,3,4)\n",
    "\n",
    "print(np_array1)\n",
    "print(np_array1.shape)  # returns the shape of the array\n",
    "print(np_array1.ndim)   # returns the dimensions of the array\n",
    "print(np_array1.size)   # returns the size of the array\n",
    "print(np_array1.dtype)  # returns the datatype of the array elements. However please note data type for the array is ndarray"
   ]
  },
  {
   "cell_type": "code",
   "execution_count": null,
   "metadata": {},
   "outputs": [],
   "source": [
    "np_array2 = np.arange(6).reshape((2,3))\n",
    "np_array3 = np.arange(15).reshape((3,5))\n",
    "\n",
    "print(np_array2,'\\n')\n",
    "print(np_array3)\n",
    "\n",
    "dot_product = np.dot(np_array2,np_array3)  # gives the dot product of arrays\n",
    "print(dot_product)"
   ]
  },
  {
   "cell_type": "markdown",
   "metadata": {},
   "source": [
    "#### Operation along axis"
   ]
  },
  {
   "cell_type": "code",
   "execution_count": null,
   "metadata": {},
   "outputs": [],
   "source": [
    "print(np_array1,'\\n')\n",
    "np_array1_sum = np_array1.sum()  # returns the sum of all the elements of the array\n",
    "print('Sum : ',np_array1_sum)\n",
    "\n",
    "np_array1_sum_axis0 = np_array1.sum(0)\n",
    "print('Sum on axis 0 : \\n',np_array1_sum_axis0)\n",
    "\n",
    "np_array1_sum_axis1 = np_array1.sum(1)  # returns the sum along axis 1 (rows) ie 0+4+8=12, 1+5+9=14\n",
    "print('Sum on axis 1 : \\n',np_array1_sum_axis1)\n",
    "\n",
    "np_array1_sum_axis2 = np_array1.sum(2)  # returns the sum along axis 2 (columns) ie 0+1+2+3=6, 4+5+6+7=22\n",
    "print('Sum on axis 2 : \\n',np_array1_sum_axis2)"
   ]
  }
 ],
 "metadata": {
  "kernelspec": {
   "display_name": "Python [conda env:fcnd]",
   "language": "python",
   "name": "conda-env-fcnd-py"
  },
  "language_info": {
   "codemirror_mode": {
    "name": "ipython",
    "version": 3
   },
   "file_extension": ".py",
   "mimetype": "text/x-python",
   "name": "python",
   "nbconvert_exporter": "python",
   "pygments_lexer": "ipython3",
   "version": "3.6.3"
  }
 },
 "nbformat": 4,
 "nbformat_minor": 2
}
