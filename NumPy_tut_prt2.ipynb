{
 "cells": [
  {
   "cell_type": "markdown",
   "metadata": {},
   "source": [
    "## 2. Index , Slice and Iterate NumPy arrays"
   ]
  },
  {
   "cell_type": "markdown",
   "metadata": {},
   "source": [
    "### 2.1 Slicing arrays"
   ]
  },
  {
   "cell_type": "code",
   "execution_count": null,
   "metadata": {},
   "outputs": [],
   "source": [
    "# importing numpy\n",
    "import numpy as np"
   ]
  },
  {
   "cell_type": "markdown",
   "metadata": {},
   "source": [
    "#### 2.1.1 One dimensoinal array"
   ]
  },
  {
   "cell_type": "code",
   "execution_count": null,
   "metadata": {},
   "outputs": [],
   "source": [
    "# numpy array indexes are zero based ie start wih 0,1,2...\n",
    "\n",
    "np_array1 = np.array([1,2,3,4,5])\n",
    "\n",
    "np_array_element1 = np_array1[1]    # elements are referenced by the index number\n",
    "np_array_element2 = np_array1[-1]   # indexes can alse be negative ie start from the end but wrapping back only once. \n",
    "                                    # np_array1[-6]  wil not give you the element 5. It will throw an error\n",
    "print(np_array_element1)\n",
    "print(np_array_element2)"
   ]
  },
  {
   "cell_type": "markdown",
   "metadata": {},
   "source": [
    "#### 2.1.2 Two deimensional array"
   ]
  },
  {
   "cell_type": "code",
   "execution_count": null,
   "metadata": {},
   "outputs": [],
   "source": [
    "np_array1 = np.arange(16)\n",
    "np_array1.shape = (4,4)  # np_array.shape(x,y) method arranges the array in a grid with x rows and y columns\n",
    "\n",
    "np_array_element1 = np_array1[1,:]   # returns the row with the index 1. Can also be written as np_array1[1]\n",
    "np_array_element2 = np_array1[:,1]   # returns the column with the index 1\n",
    "np_array_element3 = np_array1[2,3]   # returns a sinle element specified by the index\n",
    "\n",
    "print(np_array1,'\\n')\n",
    "print(np_array_element1)\n",
    "print(np_array_element2)\n",
    "print(np_array_element3)"
   ]
  },
  {
   "cell_type": "markdown",
   "metadata": {},
   "source": [
    "#### 2.1.3 Three deimensional array"
   ]
  },
  {
   "cell_type": "code",
   "execution_count": null,
   "metadata": {},
   "outputs": [],
   "source": [
    "np_array1 = np.arange(24)\n",
    "np_array1.shape = (2,3,4)            # np_array.shape(x,y,z) method arranges the array in a grid with y rows and z columns\n",
    "                                     # and x being the no of array elemnts\n",
    "np_array_element1 = np_array1[1]     # returns the second array element\n",
    "np_array_element2 = np_array1[1,2]   # returns the third row of the second element of second array element\n",
    "np_array_element3 = np_array1[1,2,3] # returns a single element identified by the arguments\n",
    "np_array_element4 = np_array1[0,:,1] # returns a column for a specified array element\n",
    " \n",
    "print(np_array1,'\\n')\n",
    "print(np_array_element1,'\\n')\n",
    "print(np_array_element2,'\\n')\n",
    "print(np_array_element3,'\\n')\n",
    "print(np_array_element4)"
   ]
  },
  {
   "cell_type": "markdown",
   "metadata": {},
   "source": [
    "### 2.2 Assigning values to elements"
   ]
  },
  {
   "cell_type": "markdown",
   "metadata": {},
   "source": [
    "#### 2.2.1 One dimensional array"
   ]
  },
  {
   "cell_type": "code",
   "execution_count": null,
   "metadata": {},
   "outputs": [],
   "source": [
    "np_array1 = np.arange(4)\n",
    "print(f'Original : {np_array1}')\n",
    "np_array1[2] = 6                 # sets the value of the element as identified by the index\n",
    "np_array1[-1] = 4                # you can also use negative indexes wrapping back once\n",
    "print(f'Modified : {np_array1}')"
   ]
  },
  {
   "cell_type": "markdown",
   "metadata": {},
   "source": [
    "#### 2.2.2 Two dimensional array"
   ]
  },
  {
   "cell_type": "code",
   "execution_count": null,
   "metadata": {},
   "outputs": [],
   "source": [
    "np_array1 = np.arange(6)\n",
    "np_array1.shape= (2,3)\n",
    "\n",
    "print('Original array :')\n",
    "print( np_array1,'\\n')\n",
    "\n",
    "np_array1[1] = 6           # sets the value of the entire row. Can also be written as np_array1[1,:]\n",
    "print( np_array1,'\\n')\n",
    "\n",
    "np_array1[:,1] = 2         # sets the value of entire column\n",
    "print( np_array1,'\\n')\n",
    "\n",
    "np_array1[0,2] = 7         # setsthe value of the element as specified by the indexes\n",
    "print( np_array1)"
   ]
  },
  {
   "cell_type": "markdown",
   "metadata": {},
   "source": [
    "#### 2.2.3 Three dimensional arrays"
   ]
  },
  {
   "cell_type": "code",
   "execution_count": null,
   "metadata": {},
   "outputs": [],
   "source": [
    "np_array1 = np.arange(8)\n",
    "np_array1.shape = (2,2,2)\n",
    "\n",
    "print('Original array :')\n",
    "print(np_array1, '\\n')\n",
    "\n",
    "np_array1[1] = 8      # sets the entire array element to the value specified. Can also we written as np_array1[1,:,:] = 8\n",
    "print(np_array1, '\\n')\n",
    "\n",
    "np_array1[1,0] = 9    # sets the entire row of array element to the value specified. Can also we written as np_array1[1,0,:] = 9\n",
    "print(np_array1, '\\n')\n",
    "\n",
    "np_array1[1,0,1] = 10  # sets the specified array element to the given value.\n",
    "print(np_array1, '\\n')\n",
    "\n",
    "np_array1[:,:,1] = 11   # sets the specified column for all array elements\n",
    "print(np_array1, '\\n')\n",
    "\n",
    "np_array1[:,0,1] = 12   # sets the specified column for all array elements\n",
    "print(np_array1, '\\n')\n",
    "\n",
    "np_array1[:,0,:] = 13   # sets the specified row for all array elements\n",
    "print(np_array1, '\\n')\n",
    "\n",
    "# so for three dimensional array np_array[x,y,z] \n",
    "#   x selects the array element. ':' selects all elements\n",
    "#   y selects the row for the specified array element in x. ':' selects all rows\n",
    "#   z selects the column for the specified array element in x and y. ':' selects all columns"
   ]
  }
 ],
 "metadata": {
  "kernelspec": {
   "display_name": "Python [conda env:fcnd]",
   "language": "python",
   "name": "conda-env-fcnd-py"
  },
  "language_info": {
   "codemirror_mode": {
    "name": "ipython",
    "version": 3
   },
   "file_extension": ".py",
   "mimetype": "text/x-python",
   "name": "python",
   "nbconvert_exporter": "python",
   "pygments_lexer": "ipython3",
   "version": "3.6.3"
  }
 },
 "nbformat": 4,
 "nbformat_minor": 2
}
