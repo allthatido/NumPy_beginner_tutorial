{
 "cells": [
  {
   "cell_type": "markdown",
   "metadata": {},
   "source": [
    "# Quick Numpy tutorial for beginners"
   ]
  },
  {
   "cell_type": "code",
   "execution_count": null,
   "metadata": {},
   "outputs": [],
   "source": [
    "# importing numpy\n",
    "\n",
    "import numpy as np\n",
    "print(np.__version__)"
   ]
  },
  {
   "cell_type": "markdown",
   "metadata": {},
   "source": [
    "## 1. Creating NumPy arrays"
   ]
  },
  {
   "cell_type": "code",
   "execution_count": null,
   "metadata": {},
   "outputs": [],
   "source": [
    "# creating numpy array from python objects\n",
    "\n",
    "python_list = [1,2,3,4]\n",
    "python_tuple = (1,2,3,4,5)\n",
    "\n",
    "np_array1 = np.array(python_list)\n",
    "np_array2 = np.array(python_tuple)\n",
    "\n",
    "print(f'NumPy array frm python list : {np_array1}')\n",
    "print(f'NumPy array frm pyhton tuple : {np_array2}')"
   ]
  },
  {
   "cell_type": "code",
   "execution_count": null,
   "metadata": {},
   "outputs": [],
   "source": [
    "# creating arrays in numpy\n",
    "# np.arange([start],stop,[step],dtype=None) // arguments in [] or with default values are optional\n",
    "# arange cretaes array with datatype int or else as specified in the dtype argument\n",
    "\n",
    "np_array1 = np.arange(12)        # if only one argument --> taken as stop value\n",
    "np_array2 = np.arange(10,20)     # if two arguments --> taken as start and stop value\n",
    "np_array3 = np.arange(10,20,2)   # if three arguments --> taken as start, stop and step values\n",
    "np_array4 = np.arange(10,step=3) # you can explicitly define the value of an argument\n",
    "\n",
    "print(np_array1)\n",
    "print(np_array2)\n",
    "print(np_array3)\n",
    "print(np_array4)"
   ]
  },
  {
   "cell_type": "markdown",
   "metadata": {},
   "source": [
    "### 1.1 Datatype promotion in NumPy arrays"
   ]
  },
  {
   "cell_type": "code",
   "execution_count": null,
   "metadata": {},
   "outputs": [],
   "source": [
    "# data type promotion in numpy array\n",
    "\n",
    "python_list1 = [1,2.02,3,4]\n",
    "python_list2 = [1,2,3,4+3j]\n",
    "python_list3 = [1,2,3,'4']\n",
    "\n",
    "np_array1 = np.array(python_list1)\n",
    "np_array2 = np.array(python_list2)\n",
    "np_array3 = np.array(python_list3)\n",
    "\n",
    "print(np_array1) # all elements promoted to float\n",
    "print(np_array2) # all elements promoted to complex numbers\n",
    "print(np_array3) # all elements promoted to strings"
   ]
  },
  {
   "cell_type": "markdown",
   "metadata": {},
   "source": [
    "### 1.2 Difference between Numpy and Python objects"
   ]
  },
  {
   "cell_type": "code",
   "execution_count": null,
   "metadata": {},
   "outputs": [],
   "source": [
    "python_list_arithmetic = python_list1*2\n",
    "numpy_list_arithmetic = np_array1*2\n",
    "\n",
    "print(f'Python list multiplication : {python_list_arithmetic}')\n",
    "print(f'NumPy list multiplication : {numpy_list_arithmetic}')"
   ]
  },
  {
   "cell_type": "markdown",
   "metadata": {},
   "source": [
    "### 1.3 NumPy functions to instantiate an NumPy array"
   ]
  },
  {
   "cell_type": "markdown",
   "metadata": {},
   "source": [
    "#### 1.3.1 linspace()"
   ]
  },
  {
   "cell_type": "code",
   "execution_count": null,
   "metadata": {},
   "outputs": [],
   "source": [
    "# linspace creates linealrly spaced array\n",
    "# np.linspace(start,stop,num=50,endpoint=True,retstep=False,dtype=None) // arguments in [] or with default values are optional\n",
    "# endpoint specified whether the stop value should be included in the array or not\n",
    "# retstep returns back the step value that can be referenced using array index\n",
    "\n",
    "np_array1 = np.linspace(5,10,5)\n",
    "np_array2 = np.linspace(5,10,5,retstep=True)\n",
    "\n",
    "print(np_array1)\n",
    "print(f'np_array2 has elemenst {np_array2[0]} with step value as {np_array2[1]}' )"
   ]
  },
  {
   "cell_type": "markdown",
   "metadata": {},
   "source": [
    "#### 1.3.2 zeros()"
   ]
  },
  {
   "cell_type": "code",
   "execution_count": null,
   "metadata": {},
   "outputs": [],
   "source": [
    "# zeros returns an array with elements initialized as zeroes\n",
    "# np.zeros(shape,dtype=None,order='C') // arguments in [] or with default values are optional\n",
    "# zeros() creates array with datatype float or else as specified in the dtype argument\n",
    "\n",
    "np_array1 = np.zeros(3)       # creates a one dimensional array\n",
    "np_array2 = np.zeros((3,3))   # creates a two dimentional array\n",
    "np_array3 = np.zeros((3,3,3)) # creates a three dimensional array\n",
    "\n",
    "print(np_array1)\n",
    "print('\\n')\n",
    "print(np_array2)\n",
    "print('\\n')\n",
    "print(np_array3)"
   ]
  },
  {
   "cell_type": "markdown",
   "metadata": {},
   "source": [
    "#### 1.3.3 ones()"
   ]
  },
  {
   "cell_type": "code",
   "execution_count": null,
   "metadata": {},
   "outputs": [],
   "source": [
    "# ones returns an array with elements initialized as zeroes\n",
    "# np.ones(shape,dtype=None,order='C') // arguments in [] or with default values are optional\n",
    "# ones() creates array with datatype float or else as specified in the dtype argument\n",
    "\n",
    "np_array1 = np.ones(3)       # creates a one dimensional array\n",
    "np_array2 = np.ones((3,3))   # creates a two dimentional array\n",
    "np_array3 = np.ones((3,3,3)) # creates a three dimensional array\n",
    "\n",
    "print(np_array1)\n",
    "print('\\n')\n",
    "print(np_array2)\n",
    "print('\\n')\n",
    "print(np_array3)"
   ]
  }
 ],
 "metadata": {
  "kernelspec": {
   "display_name": "Python [conda env:fcnd]",
   "language": "python",
   "name": "conda-env-fcnd-py"
  },
  "language_info": {
   "codemirror_mode": {
    "name": "ipython",
    "version": 3
   },
   "file_extension": ".py",
   "mimetype": "text/x-python",
   "name": "python",
   "nbconvert_exporter": "python",
   "pygments_lexer": "ipython3",
   "version": "3.6.3"
  }
 },
 "nbformat": 4,
 "nbformat_minor": 2
}
